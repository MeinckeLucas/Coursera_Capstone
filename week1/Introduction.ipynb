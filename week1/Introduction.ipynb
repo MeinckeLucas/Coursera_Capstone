{
 "cells": [
  {
   "cell_type": "markdown",
   "id": "laughing-springfield",
   "metadata": {},
   "source": [
    "# IBM Data Science Course\n",
    "## Data Science Capstone - The Battle of Neighborhoods (Week 1)\n",
    "Lucas Friedrich Meincke<br>"
   ]
  },
  {
   "cell_type": "markdown",
   "id": "split-crazy",
   "metadata": {},
   "source": [
    ">**Task 1**\n",
    "<br>\n",
    "Clearly define a problem or an idea of your choice, where you would need to leverage the Foursquare location data to solve or execute. Remember that data science problems always target an audience and are meant to help a group of stakeholders solve a problem, so make sure that you explicitly describe your audience and why they would care about your problem.\n",
    "This submission will eventually become your **Introduction/Business Problem** section in your final report. So I recommend that you push the report (having your Introduction/Business Problem section only for now) to your Github repository and submit a link to it."
   ]
  },
  {
   "cell_type": "markdown",
   "id": "unable-jason",
   "metadata": {},
   "source": [
    "## 1. Introduction\n",
    "\n",
    "In this section are persented the description of the problem and the objective of this report.\n",
    "<br><br>\n",
    "\n",
    "### 1.1 Problem Description\n",
    "\n",
    "When an entrepreneur wants to create a business such as a coffee shop or a restaurant, one of the most difficult things to do is to find the best place for it to be founded considering its future concurrence and the characteristics of the city. For example: is it good for my business to be founded at downtown or at the city boundary? The climate conditions of the city could somehow influence my business? Is my concurrence doing a good job, or the customers are not being well served? This report has the purpose to answer some questions based on these topics.\n",
    "<br><br>\n",
    "\n",
    "### 1.2 Problem Delimitation\n",
    "\n",
    "Heinz has a dream: to open an open-air shop that serves all types of coffee and ice cream in Germany. But Heinz also has a problem: he loves Stuttgart, the city he lives. Regarding the shop, as Heinz's idea is to serve the clients outside, he needs to pay attention to some factors such as the weather of the city he will be moving to, but also his future concurrence there. Additionally, as Heinz loves Stuttgart, the main city of his state, he wants that the new city be a big city too (according to the German's pattern of what a big city is, of course) and as similar as possible to his home town, regarding the venues that are there. As I learned many things in the last months during my attendance in IBM Data Science Course, I will try to help my friend Heinz to realize his dream. I will use data science techniques to find the best place for him to open his shop based on the objectives shown in section 1.3.\n",
    "<br><br>\n",
    "\n",
    "### 1.3 Objective\n",
    "\n",
    "Find the best place for Heinz to open his coffee and ice cream shop in Germany using data scraped from the internet and Foursquare databases, based on what follows:\n",
    "\n",
    "* It has to be a **big city**;\n",
    "* The **precipitation rate** in the city should be low during the spring, summer, and autumn, then Heinz could attend his clients outside as many days as possible during the year;\n",
    "* The **concurrence** should be weak based on the **quantity and the score** from customers' reviews (venues' scores);\n",
    "* The city has to be **similar to Stuttgart** based on its venues.\n",
    "<br><br>"
   ]
  }
 ],
 "metadata": {
  "kernelspec": {
   "display_name": "Python 3",
   "language": "python",
   "name": "python3"
  },
  "language_info": {
   "codemirror_mode": {
    "name": "ipython",
    "version": 3
   },
   "file_extension": ".py",
   "mimetype": "text/x-python",
   "name": "python",
   "nbconvert_exporter": "python",
   "pygments_lexer": "ipython3",
   "version": "3.9.1"
  }
 },
 "nbformat": 4,
 "nbformat_minor": 5
}
