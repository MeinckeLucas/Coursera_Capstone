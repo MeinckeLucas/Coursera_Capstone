{
 "cells": [
  {
   "cell_type": "markdown",
   "id": "unexpected-acrylic",
   "metadata": {},
   "source": [
    "# IBM Data Science Course\n",
    "### Final Module - Applied Data Science Capstone\n",
    "Lucas Friedrich Meincke<br><br>"
   ]
  },
  {
   "cell_type": "markdown",
   "id": "dangerous-utility",
   "metadata": {},
   "source": [
    "This Notebook will be used for the Capstone Project wchich is the last module of the IBM Data Science Course on Coursera."
   ]
  },
  {
   "cell_type": "code",
   "execution_count": 6,
   "id": "forced-century",
   "metadata": {},
   "outputs": [],
   "source": [
    "import pandas as pd\n",
    "import numpy as np"
   ]
  },
  {
   "cell_type": "code",
   "execution_count": 10,
   "id": "dangerous-probability",
   "metadata": {},
   "outputs": [
    {
     "name": "stdout",
     "output_type": "stream",
     "text": [
      "Hello Capstone Project Course!\n"
     ]
    }
   ],
   "source": [
    "print('Hello Capstone Project Course!')"
   ]
  }
 ],
 "metadata": {
  "kernelspec": {
   "display_name": "Python 3",
   "language": "python",
   "name": "python3"
  },
  "language_info": {
   "codemirror_mode": {
    "name": "ipython",
    "version": 3
   },
   "file_extension": ".py",
   "mimetype": "text/x-python",
   "name": "python",
   "nbconvert_exporter": "python",
   "pygments_lexer": "ipython3",
   "version": "3.9.1"
  }
 },
 "nbformat": 4,
 "nbformat_minor": 5
}
